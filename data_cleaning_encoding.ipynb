{
 "cells": [
  {
   "cell_type": "code",
   "execution_count": 1,
   "id": "de63c5d7",
   "metadata": {
    "ExecuteTime": {
     "end_time": "2024-05-14T08:04:58.063045Z",
     "start_time": "2024-05-14T08:04:54.933428Z"
    }
   },
   "outputs": [],
   "source": [
    "import os\n",
    "import pandas as pd\n",
    "import xlrd\n",
    "import time\n",
    "from deep_translator import GoogleTranslator\n",
    "import numpy as np\n",
    "from sklearn.feature_extraction.text import CountVectorizer\n",
    "from sklearn.preprocessing import OneHotEncoder"
   ]
  },
  {
   "cell_type": "markdown",
   "id": "d5a86cb8",
   "metadata": {},
   "source": [
    "### 1) Uploading dataset and translating\n",
    "1.1) Loading the already cleaned OECD dataset"
   ]
  },
  {
   "cell_type": "code",
   "execution_count": 2,
   "id": "38e93a5b",
   "metadata": {
    "ExecuteTime": {
     "end_time": "2024-05-14T08:05:30.936224Z",
     "start_time": "2024-05-14T08:04:58.064037Z"
    }
   },
   "outputs": [],
   "source": [
    "df = pd.read_excel(\"OECD_All_v3.xlsx\", sheet_name = \"All\")"
   ]
  },
  {
   "cell_type": "markdown",
   "id": "a38e17e0",
   "metadata": {},
   "source": [
    "1.2) Substituting all blank values (NaN) in \"Description\" and \"Project Title\" with \"hello world\""
   ]
  },
  {
   "cell_type": "code",
   "execution_count": 3,
   "id": "ef5204ca",
   "metadata": {
    "ExecuteTime": {
     "end_time": "2024-05-14T08:07:55.565136Z",
     "start_time": "2024-05-14T08:07:55.490216Z"
    }
   },
   "outputs": [],
   "source": [
    "df[\"Description\"] = df[\"Description\"].fillna(\"hello_world\")\n",
    "df[\"Project Title\"] = df[\"Project Title\"].fillna(\"hello_world\")"
   ]
  },
  {
   "cell_type": "markdown",
   "id": "d3d0ca49",
   "metadata": {},
   "source": [
    "1.3) Dropping project ID numbers and separating the labels (dependant variables) from the fields (independent variables)"
   ]
  },
  {
   "cell_type": "code",
   "execution_count": 6,
   "id": "da2d7ebd",
   "metadata": {},
   "outputs": [],
   "source": [
    "df = df.drop(['CRS Identification N°', 'Donor project N°'], axis = 1)"
   ]
  },
  {
   "cell_type": "code",
   "execution_count": 7,
   "id": "e43bed7e",
   "metadata": {},
   "outputs": [],
   "source": [
    "labels_df = df[[\"Climate objective (applies to Rio-marked data only) or climate component\", \n",
    "              \"Adaptation objective (applies to Rio-marked data only)\", \n",
    "              \"Mitigation objective (applies to Rio-marked data only)\"]]"
   ]
  },
  {
   "cell_type": "code",
   "execution_count": 8,
   "id": "6cd342c9",
   "metadata": {},
   "outputs": [],
   "source": [
    "df = df.drop([\"Climate objective (applies to Rio-marked data only) or climate component\", \n",
    "              \"Adaptation objective (applies to Rio-marked data only)\", \n",
    "              \"Mitigation objective (applies to Rio-marked data only)\"], axis = 1)"
   ]
  },
  {
   "cell_type": "markdown",
   "id": "d4d137ed",
   "metadata": {},
   "source": [
    "1.4) Translating all non-english entries in \"Description\" and \"Project title\" to English."
   ]
  },
  {
   "cell_type": "markdown",
   "id": "aa57fec7",
   "metadata": {},
   "source": [
    "If the \"Description\" and \"Project title\" fields have already been translated, upload the results:"
   ]
  },
  {
   "cell_type": "code",
   "execution_count": 4,
   "id": "8b2244a9",
   "metadata": {},
   "outputs": [],
   "source": [
    "with open(\"title_desc_167363.txt\", \"r+\", encoding=\"utf-8\") as td_file:    \n",
    "    td_content = td_file.read()"
   ]
  },
  {
   "cell_type": "code",
   "execution_count": 5,
   "id": "01c95682",
   "metadata": {},
   "outputs": [],
   "source": [
    "title_desc_en = td_content.split(\"_$%$&_\")"
   ]
  },
  {
   "cell_type": "code",
   "execution_count": 11,
   "id": "a731d206",
   "metadata": {},
   "outputs": [],
   "source": [
    "#df_title_desc = pd.DataFrame({\"Title_Desc\" : title_desc_en })"
   ]
  },
  {
   "cell_type": "markdown",
   "id": "ad3055f7",
   "metadata": {},
   "source": [
    "If the \"Description\" and \"Project title\" fields have not been translated yet, follow this procedure:"
   ]
  },
  {
   "cell_type": "code",
   "execution_count": 12,
   "id": "449be0a2",
   "metadata": {
    "ExecuteTime": {
     "end_time": "2024-05-14T08:07:57.555887Z",
     "start_time": "2024-05-14T08:07:57.531354Z"
    }
   },
   "outputs": [],
   "source": [
    "#ptitle = df[\"Project Title\"].astype(str).tolist()\n",
    "#desc = df[\"Description\"].astype(str).tolist()"
   ]
  },
  {
   "cell_type": "code",
   "execution_count": 13,
   "id": "ecf06706",
   "metadata": {
    "ExecuteTime": {
     "end_time": "2024-05-14T08:07:58.765602Z",
     "start_time": "2024-05-14T08:07:58.674132Z"
    }
   },
   "outputs": [],
   "source": [
    "#title_desc = list(map(lambda x,y: x + \" /// \" + y, ptitle, desc))"
   ]
  },
  {
   "cell_type": "code",
   "execution_count": 14,
   "id": "c320d2903cdabc3",
   "metadata": {
    "ExecuteTime": {
     "end_time": "2024-05-14T16:41:48.230583Z",
     "start_time": "2024-05-14T08:14:35.012065Z"
    }
   },
   "outputs": [],
   "source": [
    "#title_desc_en = []\n",
    "#for j in range(115503, len(title_desc)):\n",
    "    #td_en = GoogleTranslator('auto', 'english').translate(title_desc[j])\n",
    "    #title_desc_en.append(td_en)"
   ]
  },
  {
   "cell_type": "markdown",
   "id": "3bbd79e0",
   "metadata": {},
   "source": [
    "#### 2) Encoding the fields and the Rio labels:\n",
    "\n",
    "2.1) In the 4 funds related fields, if a project shows values for 3 of them, the 4th can be estimated out of them."
   ]
  },
  {
   "cell_type": "code",
   "execution_count": 15,
   "id": "be547617",
   "metadata": {},
   "outputs": [],
   "source": [
    "funds_fields = ['Adaptation-related development finance - Commitment - 2021 USD thousand',\n",
    "       'Mitigation-related development finance - Commitment - 2021 USD thousand',\n",
    "       'Overlap - Commitment - 2021 USD thousand',\n",
    "       'Climate-related development finance - Commitment - 2021 USD thousand']"
   ]
  },
  {
   "cell_type": "code",
   "execution_count": 16,
   "id": "d7ca2a89",
   "metadata": {},
   "outputs": [
    {
     "data": {
      "text/plain": [
       "0         0.0\n",
       "1         0.0\n",
       "2         0.0\n",
       "3         0.0\n",
       "4         0.0\n",
       "         ... \n",
       "167358    0.0\n",
       "167359    0.0\n",
       "167360    0.0\n",
       "167361    0.0\n",
       "167362    0.0\n",
       "Name: Overlap - Commitment - 2021 USD thousand, Length: 167363, dtype: float64"
      ]
     },
     "execution_count": 16,
     "metadata": {},
     "output_type": "execute_result"
    }
   ],
   "source": [
    "df[\"Adaptation_Commitment\"] = df['Climate-related development finance - Commitment - 2021 USD thousand']\n",
    "-df['Mitigation-related development finance - Commitment - 2021 USD thousand']\n",
    "+df['Overlap - Commitment - 2021 USD thousand']"
   ]
  },
  {
   "cell_type": "code",
   "execution_count": 17,
   "id": "2c3b350f",
   "metadata": {},
   "outputs": [
    {
     "data": {
      "text/plain": [
       "0         0.0\n",
       "1         0.0\n",
       "2         0.0\n",
       "3         0.0\n",
       "4         0.0\n",
       "         ... \n",
       "167358    0.0\n",
       "167359    0.0\n",
       "167360    0.0\n",
       "167361    0.0\n",
       "167362    0.0\n",
       "Name: Overlap - Commitment - 2021 USD thousand, Length: 167363, dtype: float64"
      ]
     },
     "execution_count": 17,
     "metadata": {},
     "output_type": "execute_result"
    }
   ],
   "source": [
    "df[\"Mitigation_Commitment\"] = df['Climate-related development finance - Commitment - 2021 USD thousand']\n",
    "-df['Adaptation-related development finance - Commitment - 2021 USD thousand']\n",
    "+df['Overlap - Commitment - 2021 USD thousand']"
   ]
  },
  {
   "cell_type": "code",
   "execution_count": 18,
   "id": "b3d22ae9",
   "metadata": {},
   "outputs": [
    {
     "data": {
      "text/plain": [
       "0           -25.828146\n",
       "1           -40.781284\n",
       "2           -14.148360\n",
       "3         -5454.178613\n",
       "4        -12251.975464\n",
       "              ...     \n",
       "167358    -6149.025009\n",
       "167359      -49.020000\n",
       "167360   -31579.170000\n",
       "167361    -6000.000000\n",
       "167362   -29501.000000\n",
       "Name: Climate-related development finance - Commitment - 2021 USD thousand, Length: 167363, dtype: float64"
      ]
     },
     "execution_count": 18,
     "metadata": {},
     "output_type": "execute_result"
    }
   ],
   "source": [
    "df[\"Overlap_Commitment\"] = df['Adaptation-related development finance - Commitment - 2021 USD thousand']\n",
    "+df['Mitigation-related development finance - Commitment - 2021 USD thousand']\n",
    "-df['Climate-related development finance - Commitment - 2021 USD thousand']"
   ]
  },
  {
   "cell_type": "code",
   "execution_count": 19,
   "id": "5155befb",
   "metadata": {},
   "outputs": [],
   "source": [
    "df['Adaptation-related development finance - Commitment - 2021 USD thousand'].fillna(df[\"Adaptation_Commitment\"], inplace = True)"
   ]
  },
  {
   "cell_type": "code",
   "execution_count": 20,
   "id": "f92684bb",
   "metadata": {},
   "outputs": [],
   "source": [
    "df['Mitigation-related development finance - Commitment - 2021 USD thousand'].fillna(df[\"Mitigation_Commitment\"], inplace = True)"
   ]
  },
  {
   "cell_type": "code",
   "execution_count": 21,
   "id": "ab610da6",
   "metadata": {},
   "outputs": [],
   "source": [
    "df['Overlap - Commitment - 2021 USD thousand'].fillna(df[\"Overlap_Commitment\"], inplace = True)"
   ]
  },
  {
   "cell_type": "code",
   "execution_count": 22,
   "id": "420a501d",
   "metadata": {},
   "outputs": [],
   "source": [
    "df.drop([\"Adaptation_Commitment\", \"Mitigation_Commitment\", \"Overlap_Commitment\"], axis = 1, inplace = True)"
   ]
  },
  {
   "cell_type": "markdown",
   "id": "eb31821c",
   "metadata": {},
   "source": [
    "2.2) Substitute blank values (NaN) with 0s and -1s."
   ]
  },
  {
   "cell_type": "code",
   "execution_count": 23,
   "id": "2fc4577e",
   "metadata": {},
   "outputs": [],
   "source": [
    "funds_fields = ['Adaptation-related development finance - Commitment - 2021 USD thousand',\n",
    "       'Mitigation-related development finance - Commitment - 2021 USD thousand',\n",
    "       'Overlap - Commitment - 2021 USD thousand',\n",
    "       'Climate-related development finance - Commitment - 2021 USD thousand']"
   ]
  },
  {
   "cell_type": "code",
   "execution_count": 24,
   "id": "9917e777",
   "metadata": {},
   "outputs": [],
   "source": [
    "no_funds_fields = [field for field in df.columns if field not in funds_fields and field not in ['Project Title', 'Description']]"
   ]
  },
  {
   "cell_type": "code",
   "execution_count": 25,
   "id": "28c30bbf",
   "metadata": {},
   "outputs": [],
   "source": [
    "non_numeric_fields = ['Provider Type', 'Provider', 'Provider (detailed)', 'Extending Agency', 'Recipient Region', 'Recipient Income Group (OECD Classification)',  'Concessionality', 'Channel of Delivery', 'Sector (detailed)',\n",
    " 'Sub-sector', 'Development Cooperation Modality', 'Financial Instrument', 'Gender']"
   ]
  },
  {
   "cell_type": "code",
   "execution_count": 26,
   "id": "49ea7f08",
   "metadata": {},
   "outputs": [],
   "source": [
    "numeric_fields = [field for field in no_funds_fields if field not in non_numeric_fields]"
   ]
  },
  {
   "cell_type": "code",
   "execution_count": 27,
   "id": "08cd068f",
   "metadata": {},
   "outputs": [],
   "source": [
    "df[no_funds_fields] = df[no_funds_fields].fillna(0)"
   ]
  },
  {
   "cell_type": "code",
   "execution_count": 28,
   "id": "1993ce31",
   "metadata": {},
   "outputs": [],
   "source": [
    "df[funds_fields] = df[funds_fields].fillna(-1)"
   ]
  },
  {
   "cell_type": "code",
   "execution_count": 29,
   "id": "10f77adf",
   "metadata": {},
   "outputs": [
    {
     "name": "stdout",
     "output_type": "stream",
     "text": [
      "Year                                            0\n",
      "Provider Type                                   0\n",
      "Provider                                        0\n",
      "Provider (detailed)                             0\n",
      "Provider Code                                   0\n",
      "Agency Code                                     0\n",
      "Extending Agency                                0\n",
      "Recipient Code                                  0\n",
      "Recipient Region                                0\n",
      "Recipient Income Group (OECD Classification)    0\n",
      "Concessionality                                 0\n",
      "Channel of Delivery Code                        0\n",
      "Channel of Delivery                             0\n",
      "Purpose Code                                    0\n",
      "Sector (detailed)                               0\n",
      "Sub-sector                                      0\n",
      "Development Cooperation Modality                0\n",
      "Financial Instrument                            0\n",
      "Type of Finance                                 0\n",
      "Coal-related Financing                          0\n",
      "Gender                                          0\n",
      "dtype: int64\n",
      "Adaptation-related development finance - Commitment - 2021 USD thousand    0\n",
      "Mitigation-related development finance - Commitment - 2021 USD thousand    0\n",
      "Overlap - Commitment - 2021 USD thousand                                   0\n",
      "Climate-related development finance - Commitment - 2021 USD thousand       0\n",
      "dtype: int64\n"
     ]
    }
   ],
   "source": [
    "#Check\n",
    "print(df[no_funds_fields].isna().sum())\n",
    "print(df[funds_fields].isna().sum())"
   ]
  },
  {
   "cell_type": "markdown",
   "id": "a5198f19",
   "metadata": {},
   "source": [
    "2.3) Created dataframe for funding-related fields (Case A in report)"
   ]
  },
  {
   "cell_type": "code",
   "execution_count": 30,
   "id": "760397cc",
   "metadata": {},
   "outputs": [],
   "source": [
    "funds_df = df[funds_fields]"
   ]
  },
  {
   "cell_type": "code",
   "execution_count": 31,
   "id": "63479542",
   "metadata": {},
   "outputs": [],
   "source": [
    "funds_df.to_csv('encoded_case_a_0.csv', index=True)"
   ]
  },
  {
   "cell_type": "markdown",
   "id": "52c68206",
   "metadata": {},
   "source": [
    "2.3) Encoding non-numeric fields (Case C in report)."
   ]
  },
  {
   "cell_type": "code",
   "execution_count": 32,
   "id": "bb0fd713",
   "metadata": {},
   "outputs": [],
   "source": [
    "nonnum_df = df[non_numeric_fields].astype(str)"
   ]
  },
  {
   "cell_type": "code",
   "execution_count": 33,
   "id": "30c9b213",
   "metadata": {},
   "outputs": [],
   "source": [
    "enc_nonnum = OneHotEncoder(handle_unknown='ignore')"
   ]
  },
  {
   "cell_type": "code",
   "execution_count": 34,
   "id": "5bc42894",
   "metadata": {},
   "outputs": [
    {
     "data": {
      "text/plain": [
       "OneHotEncoder(handle_unknown='ignore')"
      ]
     },
     "execution_count": 34,
     "metadata": {},
     "output_type": "execute_result"
    }
   ],
   "source": [
    "enc_nonnum.fit(nonnum_df)"
   ]
  },
  {
   "cell_type": "code",
   "execution_count": 12,
   "id": "3c0ffe82",
   "metadata": {},
   "outputs": [],
   "source": [
    "def enc_colnames(list_of_arrays, df_colnames):\n",
    "    ldl = list(list_of_arrays)\n",
    "    colnames = []\n",
    "    for i in range(0, len(df_colnames)):\n",
    "        if isinstance(ldl[i], str):\n",
    "            lista = ldl\n",
    "        else:\n",
    "            lista = ldl[i]\n",
    "        for j in range(0, len(lista)):\n",
    "            name = df_colnames[i] + \"_\" + lista[j]\n",
    "            colnames.append(name)\n",
    "    return(colnames)"
   ]
  },
  {
   "cell_type": "code",
   "execution_count": 36,
   "id": "71b5035b",
   "metadata": {},
   "outputs": [],
   "source": [
    "ecod_nonnum_colnames = enc_colnames(enc_nonnum.categories_, nonnum_df.columns)"
   ]
  },
  {
   "cell_type": "code",
   "execution_count": 37,
   "id": "b691779b",
   "metadata": {},
   "outputs": [],
   "source": [
    "ecod_nonnum_df = pd.DataFrame(enc_nonnum.transform(nonnum_df).toarray(), columns = ecod_nonnum_colnames)"
   ]
  },
  {
   "cell_type": "code",
   "execution_count": 38,
   "id": "83c7cb8e",
   "metadata": {},
   "outputs": [],
   "source": [
    "ecod_nonnum_df.to_csv('encoded_case_c_0.csv', index=True)"
   ]
  },
  {
   "cell_type": "markdown",
   "id": "036ca1da",
   "metadata": {},
   "source": [
    "2.4) Encoding numeric fields (Case B in report)."
   ]
  },
  {
   "cell_type": "code",
   "execution_count": 39,
   "id": "a2ab41c9",
   "metadata": {},
   "outputs": [],
   "source": [
    "num_df = df[numeric_fields].astype(str)"
   ]
  },
  {
   "cell_type": "code",
   "execution_count": 40,
   "id": "8712473c",
   "metadata": {},
   "outputs": [],
   "source": [
    "enc_num = OneHotEncoder(handle_unknown='ignore')"
   ]
  },
  {
   "cell_type": "code",
   "execution_count": 41,
   "id": "3b2924a2",
   "metadata": {},
   "outputs": [
    {
     "data": {
      "text/plain": [
       "OneHotEncoder(handle_unknown='ignore')"
      ]
     },
     "execution_count": 41,
     "metadata": {},
     "output_type": "execute_result"
    }
   ],
   "source": [
    "enc_num.fit(num_df)"
   ]
  },
  {
   "cell_type": "code",
   "execution_count": 42,
   "id": "4bd9dacd",
   "metadata": {},
   "outputs": [],
   "source": [
    "ecod_num_colnames = enc_colnames(enc_num.categories_, num_df.columns)"
   ]
  },
  {
   "cell_type": "code",
   "execution_count": 43,
   "id": "fb65071a",
   "metadata": {},
   "outputs": [],
   "source": [
    "ecod_num_df = pd.DataFrame(enc_num.transform(num_df).toarray(), columns = ecod_num_colnames)"
   ]
  },
  {
   "cell_type": "code",
   "execution_count": 44,
   "id": "14a9f2d6",
   "metadata": {},
   "outputs": [],
   "source": [
    "ecod_num_df.to_csv('encoded_case_b_0.csv', index=True)"
   ]
  },
  {
   "cell_type": "markdown",
   "id": "deac43dd",
   "metadata": {},
   "source": [
    "2.5) Encode the Rio marker labels."
   ]
  },
  {
   "cell_type": "code",
   "execution_count": 45,
   "id": "706bc3bd",
   "metadata": {},
   "outputs": [],
   "source": [
    "enc_labels = OneHotEncoder(handle_unknown='ignore')"
   ]
  },
  {
   "cell_type": "code",
   "execution_count": 46,
   "id": "3e9daa14",
   "metadata": {},
   "outputs": [
    {
     "data": {
      "text/plain": [
       "OneHotEncoder(handle_unknown='ignore')"
      ]
     },
     "execution_count": 46,
     "metadata": {},
     "output_type": "execute_result"
    }
   ],
   "source": [
    "enc_labels.fit(labels_df)"
   ]
  },
  {
   "cell_type": "code",
   "execution_count": 47,
   "id": "8b83f9d1",
   "metadata": {},
   "outputs": [],
   "source": [
    "ecod_labels_colnames = enc_colnames(enc_labels.categories_, labels_df.columns)"
   ]
  },
  {
   "cell_type": "code",
   "execution_count": 48,
   "id": "335ff64d",
   "metadata": {},
   "outputs": [],
   "source": [
    "ecod_labels_df = pd.DataFrame(enc_labels.transform(labels_df).toarray(), columns = ecod_labels_colnames)"
   ]
  },
  {
   "cell_type": "code",
   "execution_count": 49,
   "id": "5cefaa28",
   "metadata": {},
   "outputs": [],
   "source": [
    "ecod_labels_df.to_csv('encoded_labels.csv', index=True)"
   ]
  },
  {
   "cell_type": "markdown",
   "id": "b51320af",
   "metadata": {},
   "source": [
    "#### 3) Frequency vectorization"
   ]
  },
  {
   "cell_type": "markdown",
   "id": "dfaf4efe",
   "metadata": {},
   "source": [
    "Encoding text fields (Case D)"
   ]
  },
  {
   "cell_type": "code",
   "execution_count": 6,
   "id": "23750484",
   "metadata": {},
   "outputs": [],
   "source": [
    "determiners = \"the, a, an, this, that, these, those, my, your, his, her, its, our, their, few, little, much, many, lot, most, some, any, enough, all, both, half, either, neither, each, every, other, another, such, what, rather, quite\"\n",
    "conjunctions = \"and, or, but, yet, because, since, as, when, before, after, once, until, whenever, while, where, wherever, if, unless, case, although, though, whereas\"\n",
    "prepositions = \"in, at, on, for, from, to, until, by, towards, across, through, between, among, of, with, by, about\"\n",
    "adverbs = \"always, almost, usually, occasionally, regularly, seldom, never, rarely, hardly, often, generally, particularly, recently, immediately, usually, soon, usually, truly, ultimately, completely, mostly, perfectly\""
   ]
  },
  {
   "cell_type": "code",
   "execution_count": 7,
   "id": "858db0be",
   "metadata": {},
   "outputs": [],
   "source": [
    "det_list = determiners.split(\", \")\n",
    "conj_list = conjunctions.split(\", \")\n",
    "prep_list = prepositions.split(\", \")\n",
    "adv_list = adverbs.split(\", \")\n",
    "num_list = [str(i) for i in range(0,3000)]"
   ]
  },
  {
   "cell_type": "code",
   "execution_count": 8,
   "id": "4407ab66",
   "metadata": {},
   "outputs": [],
   "source": [
    "all_words = det_list + conj_list + prep_list + num_list + adv_list + [\"hello_world\"]"
   ]
  },
  {
   "cell_type": "code",
   "execution_count": 9,
   "id": "bb1a00df",
   "metadata": {},
   "outputs": [],
   "source": [
    "vectorizer = CountVectorizer(input = \"content\", lowercase = \"True\", stop_words = all_words, analyzer = \"word\", min_df = 0.001)\n",
    "title_desc_x = vectorizer.fit_transform(title_desc_en)"
   ]
  },
  {
   "cell_type": "code",
   "execution_count": 10,
   "id": "940b2b57",
   "metadata": {},
   "outputs": [],
   "source": [
    "title_desc_mtx = list(title_desc_x.toarray())"
   ]
  },
  {
   "cell_type": "code",
   "execution_count": 13,
   "id": "37bf5177",
   "metadata": {},
   "outputs": [],
   "source": [
    "title_desc_df_cols = enc_colnames(vectorizer.get_feature_names_out(), [\"Text\"])"
   ]
  },
  {
   "cell_type": "code",
   "execution_count": 14,
   "id": "fc461c1a",
   "metadata": {},
   "outputs": [],
   "source": [
    "title_desc_df = pd.DataFrame(title_desc_mtx, columns = title_desc_df_cols)"
   ]
  },
  {
   "cell_type": "code",
   "execution_count": 15,
   "id": "a2c6496d",
   "metadata": {},
   "outputs": [
    {
     "data": {
      "text/html": [
       "<div>\n",
       "<style scoped>\n",
       "    .dataframe tbody tr th:only-of-type {\n",
       "        vertical-align: middle;\n",
       "    }\n",
       "\n",
       "    .dataframe tbody tr th {\n",
       "        vertical-align: top;\n",
       "    }\n",
       "\n",
       "    .dataframe thead th {\n",
       "        text-align: right;\n",
       "    }\n",
       "</style>\n",
       "<table border=\"1\" class=\"dataframe\">\n",
       "  <thead>\n",
       "    <tr style=\"text-align: right;\">\n",
       "      <th></th>\n",
       "      <th>Text_00</th>\n",
       "      <th>Text_000</th>\n",
       "      <th>Text_06</th>\n",
       "      <th>Text_089</th>\n",
       "      <th>Text_09</th>\n",
       "      <th>Text_1st</th>\n",
       "      <th>Text_2020intake</th>\n",
       "      <th>Text_2nd</th>\n",
       "      <th>Text_5m</th>\n",
       "      <th>Text_7th</th>\n",
       "      <th>...</th>\n",
       "      <th>Text_établissement</th>\n",
       "      <th>Text_états</th>\n",
       "      <th>Text_étude</th>\n",
       "      <th>Text_études</th>\n",
       "      <th>Text_été</th>\n",
       "      <th>Text_évaluation</th>\n",
       "      <th>Text_évaluations</th>\n",
       "      <th>Text_événements</th>\n",
       "      <th>Text_être</th>\n",
       "      <th>Text_œuvre</th>\n",
       "    </tr>\n",
       "  </thead>\n",
       "  <tbody>\n",
       "    <tr>\n",
       "      <th>0</th>\n",
       "      <td>0</td>\n",
       "      <td>0</td>\n",
       "      <td>0</td>\n",
       "      <td>0</td>\n",
       "      <td>0</td>\n",
       "      <td>0</td>\n",
       "      <td>0</td>\n",
       "      <td>0</td>\n",
       "      <td>0</td>\n",
       "      <td>0</td>\n",
       "      <td>...</td>\n",
       "      <td>0</td>\n",
       "      <td>0</td>\n",
       "      <td>0</td>\n",
       "      <td>0</td>\n",
       "      <td>0</td>\n",
       "      <td>0</td>\n",
       "      <td>0</td>\n",
       "      <td>0</td>\n",
       "      <td>0</td>\n",
       "      <td>0</td>\n",
       "    </tr>\n",
       "    <tr>\n",
       "      <th>1</th>\n",
       "      <td>0</td>\n",
       "      <td>0</td>\n",
       "      <td>0</td>\n",
       "      <td>0</td>\n",
       "      <td>0</td>\n",
       "      <td>0</td>\n",
       "      <td>0</td>\n",
       "      <td>0</td>\n",
       "      <td>0</td>\n",
       "      <td>0</td>\n",
       "      <td>...</td>\n",
       "      <td>0</td>\n",
       "      <td>0</td>\n",
       "      <td>0</td>\n",
       "      <td>0</td>\n",
       "      <td>0</td>\n",
       "      <td>0</td>\n",
       "      <td>0</td>\n",
       "      <td>0</td>\n",
       "      <td>0</td>\n",
       "      <td>0</td>\n",
       "    </tr>\n",
       "    <tr>\n",
       "      <th>2</th>\n",
       "      <td>0</td>\n",
       "      <td>0</td>\n",
       "      <td>0</td>\n",
       "      <td>0</td>\n",
       "      <td>0</td>\n",
       "      <td>0</td>\n",
       "      <td>0</td>\n",
       "      <td>0</td>\n",
       "      <td>0</td>\n",
       "      <td>0</td>\n",
       "      <td>...</td>\n",
       "      <td>0</td>\n",
       "      <td>0</td>\n",
       "      <td>0</td>\n",
       "      <td>0</td>\n",
       "      <td>0</td>\n",
       "      <td>0</td>\n",
       "      <td>0</td>\n",
       "      <td>0</td>\n",
       "      <td>0</td>\n",
       "      <td>0</td>\n",
       "    </tr>\n",
       "    <tr>\n",
       "      <th>3</th>\n",
       "      <td>0</td>\n",
       "      <td>0</td>\n",
       "      <td>0</td>\n",
       "      <td>0</td>\n",
       "      <td>0</td>\n",
       "      <td>0</td>\n",
       "      <td>0</td>\n",
       "      <td>0</td>\n",
       "      <td>0</td>\n",
       "      <td>0</td>\n",
       "      <td>...</td>\n",
       "      <td>0</td>\n",
       "      <td>0</td>\n",
       "      <td>0</td>\n",
       "      <td>0</td>\n",
       "      <td>0</td>\n",
       "      <td>0</td>\n",
       "      <td>0</td>\n",
       "      <td>0</td>\n",
       "      <td>0</td>\n",
       "      <td>0</td>\n",
       "    </tr>\n",
       "    <tr>\n",
       "      <th>4</th>\n",
       "      <td>0</td>\n",
       "      <td>0</td>\n",
       "      <td>0</td>\n",
       "      <td>0</td>\n",
       "      <td>0</td>\n",
       "      <td>0</td>\n",
       "      <td>0</td>\n",
       "      <td>0</td>\n",
       "      <td>0</td>\n",
       "      <td>0</td>\n",
       "      <td>...</td>\n",
       "      <td>0</td>\n",
       "      <td>0</td>\n",
       "      <td>0</td>\n",
       "      <td>0</td>\n",
       "      <td>0</td>\n",
       "      <td>0</td>\n",
       "      <td>0</td>\n",
       "      <td>0</td>\n",
       "      <td>0</td>\n",
       "      <td>0</td>\n",
       "    </tr>\n",
       "  </tbody>\n",
       "</table>\n",
       "<p>5 rows × 3486 columns</p>\n",
       "</div>"
      ],
      "text/plain": [
       "   Text_00  Text_000  Text_06  Text_089  Text_09  Text_1st  Text_2020intake  \\\n",
       "0        0         0        0         0        0         0                0   \n",
       "1        0         0        0         0        0         0                0   \n",
       "2        0         0        0         0        0         0                0   \n",
       "3        0         0        0         0        0         0                0   \n",
       "4        0         0        0         0        0         0                0   \n",
       "\n",
       "   Text_2nd  Text_5m  Text_7th  ...  Text_établissement  Text_états  \\\n",
       "0         0        0         0  ...                   0           0   \n",
       "1         0        0         0  ...                   0           0   \n",
       "2         0        0         0  ...                   0           0   \n",
       "3         0        0         0  ...                   0           0   \n",
       "4         0        0         0  ...                   0           0   \n",
       "\n",
       "   Text_étude  Text_études  Text_été  Text_évaluation  Text_évaluations  \\\n",
       "0           0            0         0                0                 0   \n",
       "1           0            0         0                0                 0   \n",
       "2           0            0         0                0                 0   \n",
       "3           0            0         0                0                 0   \n",
       "4           0            0         0                0                 0   \n",
       "\n",
       "   Text_événements  Text_être  Text_œuvre  \n",
       "0                0          0           0  \n",
       "1                0          0           0  \n",
       "2                0          0           0  \n",
       "3                0          0           0  \n",
       "4                0          0           0  \n",
       "\n",
       "[5 rows x 3486 columns]"
      ]
     },
     "execution_count": 15,
     "metadata": {},
     "output_type": "execute_result"
    }
   ],
   "source": [
    "title_desc_df.head()"
   ]
  },
  {
   "cell_type": "code",
   "execution_count": 16,
   "id": "fa16395b",
   "metadata": {},
   "outputs": [],
   "source": [
    "title_desc_df.to_csv('encoded_case_d_0.csv', index=True)"
   ]
  },
  {
   "cell_type": "code",
   "execution_count": null,
   "id": "f58e98d3",
   "metadata": {},
   "outputs": [],
   "source": []
  }
 ],
 "metadata": {
  "kernelspec": {
   "display_name": "Python 3 (ipykernel)",
   "language": "python",
   "name": "python3"
  },
  "language_info": {
   "codemirror_mode": {
    "name": "ipython",
    "version": 3
   },
   "file_extension": ".py",
   "mimetype": "text/x-python",
   "name": "python",
   "nbconvert_exporter": "python",
   "pygments_lexer": "ipython3",
   "version": "3.9.13"
  }
 },
 "nbformat": 4,
 "nbformat_minor": 5
}
